{
 "cells": [
  {
   "cell_type": "code",
   "execution_count": 1,
   "metadata": {},
   "outputs": [
    {
     "name": "stderr",
     "output_type": "stream",
     "text": [
      "/home/adminroot/miniconda3/envs/distill_data/lib/python3.11/site-packages/tqdm/auto.py:21: TqdmWarning: IProgress not found. Please update jupyter and ipywidgets. See https://ipywidgets.readthedocs.io/en/stable/user_install.html\n",
      "  from .autonotebook import tqdm as notebook_tqdm\n"
     ]
    }
   ],
   "source": [
    "import pandas as pd\n",
    "import torch \n",
    "import torch.nn as nn\n",
    "import torch.nn.functional as F\n",
    "import unicodedata\n",
    "import re\n",
    "import jieba\n",
    "import numpy as np\n",
    "import random\n",
    "from torchtext.data.utils import get_tokenizer\n",
    "from torchtext.vocab import build_vocab_from_iterator\n",
    "from typing import Iterable,List\n",
    "from torch.utils.data import TensorDataset,RandomSampler,DataLoader\n",
    "\n",
    "device=torch.device('cuda')"
   ]
  },
  {
   "cell_type": "code",
   "execution_count": 2,
   "metadata": {},
   "outputs": [],
   "source": [
    "# Turn a Unicode string to plain ASCII, thanks to\n",
    "# https://stackoverflow.com/a/518232/2809427\n",
    "def unicodeToAscii(s):\n",
    "    return ''.join(\n",
    "        c for c in unicodedata.normalize('NFD', s)\n",
    "        if unicodedata.category(c) != 'Mn'\n",
    "    )\n",
    "\n",
    "# Lowercase, trim, and remove non-letter characters\n",
    "def normalize_String(s):\n",
    "    s = unicodeToAscii(s.lower().strip())\n",
    "    s = re.sub(r\"([.!?])\", r\" \\1\", s)\n",
    "    s = re.sub(r\"[^a-zA-Z!?]+\", r\" \", s)\n",
    "    return s.strip()\n",
    "\n",
    "def normalize_cn_String(s):\n",
    "    s = unicodeToAscii(s.lower().strip())\n",
    "    s = re.sub(r\"([.!?])\", r\" \\1\", s)\n",
    "    s = re.sub(r\"[^\\u4e00-\\u9fff]+\", r\" \", s)\n",
    "    return s.strip()"
   ]
  },
  {
   "cell_type": "code",
   "execution_count": 3,
   "metadata": {},
   "outputs": [],
   "source": [
    "df=pd.read_csv('en_2_cn.tsv',header=None,sep='\\t',on_bad_lines='skip')"
   ]
  },
  {
   "cell_type": "code",
   "execution_count": 4,
   "metadata": {},
   "outputs": [
    {
     "data": {
      "text/html": [
       "<div>\n",
       "<style scoped>\n",
       "    .dataframe tbody tr th:only-of-type {\n",
       "        vertical-align: middle;\n",
       "    }\n",
       "\n",
       "    .dataframe tbody tr th {\n",
       "        vertical-align: top;\n",
       "    }\n",
       "\n",
       "    .dataframe thead th {\n",
       "        text-align: right;\n",
       "    }\n",
       "</style>\n",
       "<table border=\"1\" class=\"dataframe\">\n",
       "  <thead>\n",
       "    <tr style=\"text-align: right;\">\n",
       "      <th></th>\n",
       "      <th>0</th>\n",
       "      <th>1</th>\n",
       "      <th>2</th>\n",
       "      <th>3</th>\n",
       "    </tr>\n",
       "  </thead>\n",
       "  <tbody>\n",
       "    <tr>\n",
       "      <th>0</th>\n",
       "      <td>1277</td>\n",
       "      <td>I have to go to sleep.</td>\n",
       "      <td>2</td>\n",
       "      <td>我该去睡觉了。</td>\n",
       "    </tr>\n",
       "    <tr>\n",
       "      <th>1</th>\n",
       "      <td>1280</td>\n",
       "      <td>Today is June 18th and it is Muiriel's birthday!</td>\n",
       "      <td>5</td>\n",
       "      <td>今天是６月１８号，也是Muiriel的生日！</td>\n",
       "    </tr>\n",
       "    <tr>\n",
       "      <th>2</th>\n",
       "      <td>1282</td>\n",
       "      <td>Muiriel is 20 now.</td>\n",
       "      <td>7</td>\n",
       "      <td>Muiriel现在20岁了。</td>\n",
       "    </tr>\n",
       "    <tr>\n",
       "      <th>3</th>\n",
       "      <td>1283</td>\n",
       "      <td>The password is \"Muiriel\".</td>\n",
       "      <td>8</td>\n",
       "      <td>密码是\"Muiriel\"。</td>\n",
       "    </tr>\n",
       "    <tr>\n",
       "      <th>4</th>\n",
       "      <td>1284</td>\n",
       "      <td>I will be back soon.</td>\n",
       "      <td>9</td>\n",
       "      <td>我很快就會回來。</td>\n",
       "    </tr>\n",
       "  </tbody>\n",
       "</table>\n",
       "</div>"
      ],
      "text/plain": [
       "      0                                                 1  2  \\\n",
       "0  1277                            I have to go to sleep.  2   \n",
       "1  1280  Today is June 18th and it is Muiriel's birthday!  5   \n",
       "2  1282                                Muiriel is 20 now.  7   \n",
       "3  1283                        The password is \"Muiriel\".  8   \n",
       "4  1284                              I will be back soon.  9   \n",
       "\n",
       "                        3  \n",
       "0                 我该去睡觉了。  \n",
       "1  今天是６月１８号，也是Muiriel的生日！  \n",
       "2          Muiriel现在20岁了。  \n",
       "3           密码是\"Muiriel\"。  \n",
       "4                我很快就會回來。  "
      ]
     },
     "execution_count": 4,
     "metadata": {},
     "output_type": "execute_result"
    }
   ],
   "source": [
    "df.head()"
   ]
  },
  {
   "cell_type": "code",
   "execution_count": 5,
   "metadata": {},
   "outputs": [
    {
     "name": "stdout",
     "output_type": "stream",
     "text": [
      "我该去睡1&&4觉了\n"
     ]
    },
    {
     "data": {
      "text/plain": [
       "'我该去睡 觉了'"
      ]
     },
     "execution_count": 5,
     "metadata": {},
     "output_type": "execute_result"
    }
   ],
   "source": [
    "# df.iloc[0][3],df.iloc[0][1]\n",
    "# normalizeString(df.iloc[0][3])\n",
    "s=unicodeToAscii(df.iloc[0][3])[:4]+'1&&4'+unicodeToAscii(df.iloc[0][3])[4:-1]\n",
    "print(s)\n",
    "s=normalize_cn_String(s)\n",
    "s"
   ]
  },
  {
   "cell_type": "code",
   "execution_count": 6,
   "metadata": {},
   "outputs": [],
   "source": [
    "SOS_tokens=0\n",
    "EOS_token=1\n",
    "class Lang:\n",
    "    '''\n",
    "    Through this class will generate a vocabulary for language\n",
    "    '''\n",
    "    def __init__(self,name):\n",
    "        self.name=name\n",
    "        self.word2index={}\n",
    "        self.index2word={0:\"SOS\",1:\"EOS\"}\n",
    "        self.word2count={}\n",
    "        self.n_words=2 #n_words represent the index of the next word\n",
    "    def addSentence(self,sentence):\n",
    "        if self.name=='en':\n",
    "            for word in sentence.split(' '):\n",
    "                self.addWord(word)\n",
    "        else:\n",
    "            for word in jieba.cut(sentence,cut_all=False):\n",
    "                self.addWord(word)\n",
    "    def addWord(self,word):\n",
    "        if word not in self.word2index:\n",
    "            self.word2index[word]=self.n_words\n",
    "            self.index2word[self.n_words]=word\n",
    "            self.word2count[word]=1\n",
    "            self.n_words+=1\n",
    "        else:\n",
    "            self.word2count[word]+=1"
   ]
  },
  {
   "cell_type": "code",
   "execution_count": 7,
   "metadata": {},
   "outputs": [
    {
     "name": "stderr",
     "output_type": "stream",
     "text": [
      "Building prefix dict from the default dictionary ...\n",
      "Loading model from cache /tmp/jieba.cache\n",
      "Loading model cost 0.964 seconds.\n",
      "Prefix dict has been built successfully.\n"
     ]
    },
    {
     "name": "stdout",
     "output_type": "stream",
     "text": [
      "我 该 去 睡觉 了\n"
     ]
    }
   ],
   "source": [
    "import jieba\n",
    "\n",
    "# text = \"中文分词是一个重要的自然语言处理任务。\"\n",
    "text = \"我该去睡觉了\"\n",
    "seg_list = jieba.cut(text, cut_all=False)\n",
    "print(\" \".join(seg_list))"
   ]
  },
  {
   "cell_type": "code",
   "execution_count": 8,
   "metadata": {},
   "outputs": [
    {
     "data": {
      "text/plain": [
       "0        None\n",
       "1        None\n",
       "2        None\n",
       "3        None\n",
       "4        None\n",
       "         ... \n",
       "67800    None\n",
       "67801    None\n",
       "67802    None\n",
       "67803    None\n",
       "67804    None\n",
       "Length: 67805, dtype: object"
      ]
     },
     "execution_count": 8,
     "metadata": {},
     "output_type": "execute_result"
    }
   ],
   "source": [
    "pairs=[]\n",
    "def pair_df(row):\n",
    "    '''\n",
    "    split every line into pairs and normalize\n",
    "    '''\n",
    "    sentence=[]\n",
    "    sentence.append(normalize_String(row[1]))\n",
    "    sentence.append(normalize_cn_String(row[3]))\n",
    "    pairs.append(sentence)\n",
    "df.apply(pair_df,axis=1)"
   ]
  },
  {
   "cell_type": "code",
   "execution_count": 9,
   "metadata": {},
   "outputs": [
    {
     "data": {
      "text/plain": [
       "[['i have to go to sleep', '我该去睡觉了'],\n",
       " ['today is june th and it is muiriel s birthday !', '今天是 月 号 也是 的生日'],\n",
       " ['muiriel is now', '现在 岁了'],\n",
       " ['the password is muiriel', '密码是'],\n",
       " ['i will be back soon', '我很快就會回來']]"
      ]
     },
     "execution_count": 9,
     "metadata": {},
     "output_type": "execute_result"
    }
   ],
   "source": [
    "pairs[:5]"
   ]
  },
  {
   "cell_type": "code",
   "execution_count": 10,
   "metadata": {},
   "outputs": [],
   "source": [
    "def readLangs(lang1,lang2,pairs,reversed=False):\n",
    "    '''\n",
    "    in this use lang1 English lang2 Chinese\n",
    "    when you want to tarnslate lang2 to lang1 set  reversed True \n",
    "    '''\n",
    "    if reversed:\n",
    "        pairs=[list(reversed(p))for p in pairs]\n",
    "        input_lang=Lang(lang2)\n",
    "        output_lang=Lang(lang1)\n",
    "    else:\n",
    "        input_lang=Lang(lang1)\n",
    "        output_lang=Lang(lang2)\n",
    "    return input_lang,output_lang,pairs\n",
    "    "
   ]
  },
  {
   "cell_type": "code",
   "execution_count": 11,
   "metadata": {},
   "outputs": [
    {
     "name": "stdout",
     "output_type": "stream",
     "text": [
      "['are you freaking kidding me ? !', '你是在跟我開玩笑吧']\n",
      "['he s a good person', '他是个好人']\n",
      "['he s a good person', '他是個好人']\n",
      "['are you a japanese student ?', '你是日本学生吗']\n",
      "['are you a japanese student ?', '你是日语学生吗']\n"
     ]
    },
    {
     "ename": "AssertionError",
     "evalue": "",
     "output_type": "error",
     "traceback": [
      "\u001b[0;31m---------------------------------------------------------------------------\u001b[0m",
      "\u001b[0;31mAssertionError\u001b[0m                            Traceback (most recent call last)",
      "\u001b[1;32m/home/adminroot/code/pc/study_vlog/deeplearning/torch_tutorial/tanslation_with_tf/main.ipynb 单元格 11\u001b[0m line \u001b[0;36m1\n\u001b[1;32m     <a href='vscode-notebook-cell://ssh-remote%2B172.16.75.84/home/adminroot/code/pc/study_vlog/deeplearning/torch_tutorial/tanslation_with_tf/main.ipynb#X13sdnNjb2RlLXJlbW90ZQ%3D%3D?line=11'>12</a>\u001b[0m \u001b[39mprint\u001b[39m(i)\n\u001b[1;32m     <a href='vscode-notebook-cell://ssh-remote%2B172.16.75.84/home/adminroot/code/pc/study_vlog/deeplearning/torch_tutorial/tanslation_with_tf/main.ipynb#X13sdnNjb2RlLXJlbW90ZQ%3D%3D?line=12'>13</a>\u001b[0m a\u001b[39m+\u001b[39m\u001b[39m=\u001b[39m\u001b[39m1\u001b[39m\n\u001b[0;32m---> <a href='vscode-notebook-cell://ssh-remote%2B172.16.75.84/home/adminroot/code/pc/study_vlog/deeplearning/torch_tutorial/tanslation_with_tf/main.ipynb#X13sdnNjb2RlLXJlbW90ZQ%3D%3D?line=13'>14</a>\u001b[0m \u001b[39massert\u001b[39;00m a\u001b[39m<\u001b[39m\u001b[39m5\u001b[39m\n",
      "\u001b[0;31mAssertionError\u001b[0m: "
     ]
    }
   ],
   "source": [
    "eng_prefixes=(\n",
    "    \"i am \",\"我是\",\n",
    "    \"he is \",\"他是\",\n",
    "    \"she is \",\"她是\",\n",
    "    \"you are \",\"你是\",\n",
    "    \"we are \",\"我们是\",\n",
    "    \"they are \",\"他们是\"\n",
    ")\n",
    "a=0\n",
    "for i in pairs:\n",
    "    if(i[1].startswith(eng_prefixes)):\n",
    "        print(i)\n",
    "        a+=1\n",
    "        assert a<5\n"
   ]
  },
  {
   "cell_type": "code",
   "execution_count": 12,
   "metadata": {},
   "outputs": [],
   "source": [
    "MAX_LENGTH=15\n",
    "\n",
    "eng_prefixes=(\n",
    "    \"i am \",\"我 是 \",\n",
    "    \"he is \",\"他 是 \",\n",
    "    \"she is \",\"她 是 \",\n",
    "    \"you are \",\"你 是 \",\n",
    "    \"we are \",\"我们 是 \",\n",
    "    \"they are \",\"他们 是 \"\n",
    ")\n",
    "\n",
    "def filterPair(p):\n",
    "    return len(p[0].split(' '))<MAX_LENGTH and \\\n",
    "    len([word for word in jieba.cut(p[1],cut_all=False)])<MAX_LENGTH and \\\n",
    "    p[0].startswith(eng_prefixes)\n",
    "\n",
    "def filterPairs(pairs):\n",
    "    return [pair for pair in pairs if filterPair(pair)]"
   ]
  },
  {
   "cell_type": "code",
   "execution_count": 13,
   "metadata": {},
   "outputs": [],
   "source": [
    "def prepareData(lang1,lang2,pairs,reverse=False):\n",
    "    '''\n",
    "    prepare the data from lang1 to lang2, if reverse is False\n",
    "    '''\n",
    "    input_lang,output_lang,pairs=readLangs(lang1,lang2,pairs,reverse)\n",
    "    print(f\"Read {len(pairs)} sentence pairs\")\n",
    "    pairs=filterPairs(pairs)\n",
    "    print(f\"Trimmed to {len(pairs)} sentece pairs\")\n",
    "    print(\"Counting words \\n\")\n",
    "    print(\"Generate the vocab\")\n",
    "    for pair in pairs:\n",
    "        input_lang.addSentence(pair[0])\n",
    "        output_lang.addSentence(pair[1])\n",
    "    print(\"Counted words:\")\n",
    "    print(input_lang.name,input_lang.n_words)\n",
    "    print(output_lang.name,output_lang.n_words)\n",
    "    return input_lang,output_lang,pairs"
   ]
  },
  {
   "cell_type": "code",
   "execution_count": 14,
   "metadata": {},
   "outputs": [
    {
     "name": "stdout",
     "output_type": "stream",
     "text": [
      "Read 67805 sentence pairs\n",
      "Trimmed to 2247 sentece pairs\n",
      "Counting words \n",
      "\n",
      "Generate the vocab\n",
      "Counted words:\n",
      "en 1812\n",
      "cn 2691\n",
      "['i am so thirsty probably because i ate pizza yesterday night', '我渴死了 可能是因為我昨天晚上吃了比薩']\n"
     ]
    }
   ],
   "source": [
    "input_lang,output_lang,pairs=prepareData('en','cn',pairs)\n",
    "print(random.choice(pairs))"
   ]
  },
  {
   "attachments": {
    "image.png": {
     "image/png": "[encoded data removed]"
    }
   },
   "cell_type": "markdown",
   "metadata": {},
   "source": [
    "![image.png](attachment:image.png)"
   ]
  },
  {
   "cell_type": "code",
   "execution_count": 15,
   "metadata": {},
   "outputs": [],
   "source": [
    "class EncoderRNN(nn.Module):\n",
    "    '''\n",
    "    an RNN(Gru) Encoder\n",
    "    return output,hidden state for next input word\n",
    "    output [batch_size,seq_len,hidden_size]\n",
    "    hidden [num_layer*num_direction,batch_size,hidden_size]\n",
    "    '''\n",
    "    def __init__(self,input_size,hidden_size,dropout_p=0.1):\n",
    "        # first batch is time step\n",
    "        super(EncoderRNN,self).__init__()\n",
    "        self.hidden_size=hidden_size\n",
    "        self.embedding=nn.Embedding(input_size,hidden_size)\n",
    "        self.gru=nn.GRU(hidden_size,hidden_size,batch_first=True)\n",
    "        self.dropout=nn.Dropout(dropout_p)\n",
    "    def forward(self,x):\n",
    "        embedded=self.dropout(self.embedding(x))\n",
    "        output,hidden=self.gru(embedded)\n",
    "        return output,hidden"
   ]
  },
  {
   "attachments": {
    "image.png": {
     "image/png": "[encoded data removed]"
    }
   },
   "cell_type": "markdown",
   "metadata": {},
   "source": [
    "![image.png](attachment:image.png)"
   ]
  },
  {
   "cell_type": "code",
   "execution_count": 16,
   "metadata": {},
   "outputs": [],
   "source": [
    "class DecoderRNN(nn.Module):\n",
    "    def __init__(self,hidden_size,output_size):\n",
    "        super(DecoderRNN,self).__init__()\n",
    "        self.embedding=nn.Embedding(output_size,hidden_size)\n",
    "        self.gru=nn.GRU(hidden_size,hidden_size,batch_first=True)\n",
    "        self.out=nn.Linear(hidden_size,output_size)\n",
    "    def forward_step(self,input,hidden):\n",
    "        output=self.embedding(input)\n",
    "        output=F.relu(output)\n",
    "        output,hidden=self.gru(output,hidden)\n",
    "        output=self.out(output)\n",
    "        return output,hidden\n",
    "    def forward(self,encoder_outputs,encoder_hidden,target_tensor=None):\n",
    "        # target tensor ues for teacher forcing\n",
    "        batch_size=encoder_outputs.size(0)\n",
    "        decoder_input=torch.empty(batch_size,1,dtype=torch.long,device=device).fill_(SOS_tokens)\n",
    "        decoder_hidden=encoder_hidden\n",
    "        decoder_outputs=[] #the candidate data\n",
    "        \n",
    "        for i in range(MAX_LENGTH):\n",
    "            decoder_output,decoder_hidden=self.forward_step(decoder_input,decoder_hidden)\n",
    "            # print(decoder_output.size())[32,1,2691]\n",
    "            # append to list one by one\n",
    "            decoder_outputs.append(decoder_output)\n",
    "            if target_tensor is not None:\n",
    "                decoder_input=target_tensor[:,i].unsqueeze(1)\n",
    "            else:\n",
    "                #use the history predict as input\n",
    "                _,topi=decoder_output.topk(1)\n",
    "                decoder_input=topi.squeeze(-1).detach()\n",
    "        decoder_outputs=torch.cat(decoder_outputs,dim=1)\n",
    "        #calculate log softmax for every outputs\n",
    "        # decoder_outputs=F.log_softmax(decoder_outputs,dim=-1)\n",
    "        return decoder_outputs,decoder_hidden,None\n",
    "    "
   ]
  },
  {
   "attachments": {
    "image-2.png": {
     "image/png": "[encoded data removed]"
    },
    "image.png": {
     "image/png": "[encoded data removed]"
    }
   },
   "cell_type": "markdown",
   "metadata": {},
   "source": [
    "\n",
    "![image-2.png](attachment:image-2.png)\n",
    "\n",
    "Calculating the attention weights is done with another feed-forward layer attn, using the decoder’s input and hidden state as inputs. Because there are sentences of all sizes in the training data, to actually create and train this layer we have to choose a maximum sentence length (input length, for encoder outputs) that it can apply to. Sentences of the maximum length will use all the attention weights, while shorter sentences will only use the first few.\n",
    "\n",
    "![image.png](attachment:image.png)\n",
    "\n",
    "Attention allows the decoder network to “focus” on a different part of the encoder’s outputs for every step of the decoder’s own outputs. First we calculate a set of attention weights. These will be multiplied by the encoder output vectors to create a weighted combination. The result (called attn_applied in the code) should contain information about that specific part of the input sequence, and thus help the decoder choose the right output words.\n"
   ]
  },
  {
   "cell_type": "code",
   "execution_count": 17,
   "metadata": {},
   "outputs": [],
   "source": [
    "class BahanauAttention(nn.Module):\n",
    "    '''\n",
    "    return context contain the information of every word in encoder_output(keys)\n",
    "    context is [batch_size,1,hidden_size]\n",
    "    weights [batch_size,1,seq_len]\n",
    "    '''\n",
    "    def __init__(self,hidden_size):\n",
    "        super(BahanauAttention,self).__init__()\n",
    "        self.W=nn.Linear(hidden_size,hidden_size)\n",
    "        self.U=nn.Linear(hidden_size,hidden_size)\n",
    "        self.V=nn.Linear(hidden_size,1) # here is like a mm operation [1,hidden_size]dot[hidden_size,1]\n",
    "    def forward(self,query,keys):\n",
    "        # keys [batch_size,seq_len,hidden_size]\n",
    "        # scores [batch_size,seq_len,1]\n",
    "        scores=self.V(torch.tanh(self.W(query)+self.U(keys)))\n",
    "        # print(f'Size of keys is {keys.size()}')\n",
    "        # scores=scores.squeeze(2).unsqueeze(1)\n",
    "        scores=scores.transpose(1,2)\n",
    "        #after operation above scores is [batch_size,1,seq_len] \n",
    "        # print(f'Size of score is {scores.size()}')\n",
    "        weights=F.softmax(scores,dim=-1)\n",
    "        context=torch.bmm(weights,keys)\n",
    "        #context is [batch_size,1,hidden_size]\n",
    "        #context contain the information of every word in encoder_output 该输出为通过rnn编码器后的向量，每一个最后一维是hidden维的，对应编码器隐藏层信息\n",
    "        return context,weights\n",
    "\n",
    "class AttentionDecoderRNN(nn.Module):\n",
    "    def __init__(self,hidden_size,output_size,dropout=0.1):\n",
    "        super(AttentionDecoderRNN,self).__init__()\n",
    "        self.embedding=nn.Embedding(output_size,hidden_size)\n",
    "        self.attention=BahanauAttention(hidden_size)\n",
    "        self.gru=nn.GRU(2*hidden_size,hidden_size,batch_first=True)\n",
    "        # self.gru=nn.GRU(hidden_size,hidden_size,batch_first=True)\n",
    "        self.out=nn.Linear(hidden_size,output_size)\n",
    "        self.dropout=nn.Dropout(dropout)\n",
    "        \n",
    "    def forward_step(self,input,hidden,encoder_outputs):\n",
    "        embedded=self.dropout(self.embedding(input))\n",
    "        # hidden [1,32,hidden_size] [num_layer*num_direction,batch_size,hidden_size]\n",
    "        query=hidden.permute(1,0,2)\n",
    "        # query [32,1,hidden_size] [batch_size,1,hidden_size]\n",
    "        context,atten_weights=self.attention(query,encoder_outputs)\n",
    "        # add information of encoder_outputs and hidden to input\n",
    "        input_gru=torch.cat((embedded,context),dim=2)\n",
    "        # input_gru=embedded+context\n",
    "        output,hidden=self.gru(input_gru,hidden)\n",
    "        output=self.out(output) #[batch_size,1,output_size]\n",
    "        return output,hidden,atten_weights\n",
    "        \n",
    "    def forward(self,encoder_outputs,encoder_hidden,target_tensor=None):\n",
    "        batch_size=encoder_outputs.size(0)\n",
    "        decoder_input=torch.empty(batch_size,1,dtype=torch.long,device=device).fill_(SOS_tokens)\n",
    "        decoder_hidden=encoder_hidden\n",
    "        decoder_outputs=[]\n",
    "        attentions=[]\n",
    "        for i in range(MAX_LENGTH):\n",
    "            decoder_output,decoder_hidden,atten_weight=self.forward_step(\n",
    "                decoder_input,\n",
    "                decoder_hidden,\n",
    "                encoder_outputs)\n",
    "            decoder_outputs.append(decoder_output)\n",
    "            attentions.append(atten_weight)\n",
    "            if target_tensor is not None:\n",
    "                decoder_input=target_tensor[:,i].unsqueeze(1)\n",
    "            else:\n",
    "                _,topi=decoder_output.topk(1) #[batch_size,1,1]\n",
    "                decoder_input=topi.squeeze(-1).detach() #[batch_size,1]\n",
    "        decoder_outputs=torch.cat(decoder_outputs,dim=1)\n",
    "        # decoder_outputs=F.log_softmax(decoder_outputs,dim=1)\n",
    "        attentions=torch.cat(attentions,dim=1)\n",
    "        return decoder_outputs,decoder_hidden,attentions\n",
    "            \n",
    "        \n",
    "        \n",
    "        "
   ]
  },
  {
   "cell_type": "code",
   "execution_count": 18,
   "metadata": {},
   "outputs": [],
   "source": [
    "def indexesFromSentence(lang:Lang,sentence):\n",
    "    if lang.name=='en':\n",
    "        return [lang.word2index[word] for word in sentence.split(' ')]\n",
    "    else:\n",
    "        return [lang.word2index[word] for word in jieba.cut(sentence,cut_all=False)]\n",
    "\n",
    "def tensorfromSentence(lang:Lang,sentence):\n",
    "    # convert sentence to tensor\n",
    "    indexes=indexesFromSentence(lang,sentence)\n",
    "    indexes.append(EOS_token)\n",
    "    return torch.tensor(indexes,dtype=torch.long,device=device).view(1,-1)\n",
    "\n",
    "def tensorfromPair(pair):\n",
    "    #return tensor of the pair (input_tensor,output_tensor)\n",
    "    input_tensor=tensorfromSentence(input_lang,pair[0])\n",
    "    output_tensor=tensorfromSentence(output_lang,pair[1])\n",
    "    return (input_tensor,output_tensor)\n",
    "\n",
    "def get_dataloader(batch_size):\n",
    "    n=len(pairs)\n",
    "    input_ids=np.zeros((n,MAX_LENGTH),dtype=np.int32)\n",
    "    target_ids=np.zeros((n,MAX_LENGTH),dtype=np.int32)\n",
    "    for idx,(inp,tgt) in enumerate(pairs):\n",
    "        inp_ids=indexesFromSentence(input_lang,inp)\n",
    "        tgt_ids=indexesFromSentence(output_lang,tgt)\n",
    "        inp_ids.append(EOS_token)\n",
    "        tgt_ids.append(EOS_token)\n",
    "        input_ids[idx,:len(inp_ids)]=inp_ids\n",
    "        target_ids[idx,:len(tgt_ids)]=tgt_ids\n",
    "    train_data=TensorDataset(torch.LongTensor(input_ids).to(device),\n",
    "                             torch.LongTensor(target_ids).to(device))\n",
    "    train_sample=RandomSampler(train_data)\n",
    "    train_dataloader=DataLoader(train_data,batch_size=batch_size,sampler=train_sample)\n",
    "    return train_dataloader\n",
    "        "
   ]
  },
  {
   "cell_type": "code",
   "execution_count": 19,
   "metadata": {},
   "outputs": [],
   "source": [
    "train_dataloader=get_dataloader(32)"
   ]
  },
  {
   "cell_type": "code",
   "execution_count": 20,
   "metadata": {},
   "outputs": [
    {
     "data": {
      "text/plain": [
       "(2, 71)"
      ]
     },
     "execution_count": 20,
     "metadata": {},
     "output_type": "execute_result"
    }
   ],
   "source": [
    "len(next(iter(train_dataloader))),len(train_dataloader)\n",
    "#src tgt"
   ]
  },
  {
   "cell_type": "code",
   "execution_count": 21,
   "metadata": {},
   "outputs": [],
   "source": [
    "def trian_epoch(dataloader,encoder,decoder,encoder_optimizer,decoder_optimizer,criterion):\n",
    "    total_loss=0.0\n",
    "    for data in dataloader:\n",
    "        input_tensor,target_tensor=data\n",
    "        encoder_optimizer.zero_grad()\n",
    "        decoder_optimizer.zero_grad()\n",
    "        encoder_outputs,encoder_hidden=encoder(input_tensor)\n",
    "        #target tensor is for teacher-forced train\n",
    "        decoder_outputs,_,_=decoder(encoder_outputs,encoder_hidden,target_tensor)\n",
    "        #use NLLLoss formula is -log(softmax(outputs)[target])\n",
    "        loss=criterion(\n",
    "            decoder_outputs.view(-1,decoder_outputs.size(-1)),\n",
    "            target_tensor.view(-1)\n",
    "        )\n",
    "        loss.backward()\n",
    "        encoder_optimizer.step()\n",
    "        decoder_optimizer.step()\n",
    "        total_loss+=loss.item()\n",
    "    return total_loss/len(dataloader)"
   ]
  },
  {
   "cell_type": "code",
   "execution_count": 22,
   "metadata": {},
   "outputs": [],
   "source": [
    "import time\n",
    "import math\n",
    "def asMinutes(s):\n",
    "    m=math.floor(s/60)\n",
    "    s-=m*60\n",
    "    return f'{m}m {s}s'\n",
    "def timeSine(since,percent):\n",
    "    # print current time used and the last time\n",
    "    now=time.time()\n",
    "    s=now-since\n",
    "    es=s/(percent)\n",
    "    re=es-s\n",
    "    return f'Duration {s} ,{re} time left |'\n",
    "\n"
   ]
  },
  {
   "cell_type": "markdown",
   "metadata": {},
   "source": [
    "## The whole training process\n",
    "Start a timer\n",
    "\n",
    "Initialize optimizers and criterion\n",
    "\n",
    "Create set of training pairs\n",
    "\n",
    "Start empty losses array for plotting"
   ]
  },
  {
   "cell_type": "code",
   "execution_count": 23,
   "metadata": {},
   "outputs": [],
   "source": [
    "import matplotlib.pyplot as plt\n",
    "import matplotlib\n",
    "# from matplotlib.font_manager import FontProperties\n",
    "# fontdir = '/home/adminroot/code/pc/study_vlog/deeplearning/torch_tutorial/tanslation_with_tf/SimHei.ttf'\n",
    "# chinese_font = FontProperties(fname=fontdir)\n",
    "plt.switch_backend('agg')\n",
    "# plt.rcParams['font.sans-serif']='SimHei'\n",
    "import matplotlib.ticker as ticker\n",
    "\n",
    "\n",
    "def showPlot(points):\n",
    "    plt.figure()\n",
    "    # plt.legend(fontdir=fontdir)\n",
    "    fig, ax = plt.subplots()\n",
    "    loc = ticker.MultipleLocator(base=0.2)\n",
    "    ax.yaxis.set_major_locator(loc)\n",
    "    plt.plot(points)"
   ]
  },
  {
   "cell_type": "code",
   "execution_count": 24,
   "metadata": {},
   "outputs": [],
   "source": [
    "def train(train_dataloader,encoder,decoder,n_epochs,lr=0.001,log_epoch=100,plot_epoch=100):\n",
    "    start=time.time()\n",
    "    plot_losses=[]\n",
    "    log_loss_total=0\n",
    "    plot_loss_total=0\n",
    "\n",
    "    encoder_optimizer=torch.optim.Adam(encoder.parameters(),lr=lr)\n",
    "    decoder_optimizer=torch.optim.Adam(decoder.parameters(),lr=lr)\n",
    "    # criterion=nn.NLLLoss()\n",
    "    criterion=nn.CrossEntropyLoss()\n",
    "    \n",
    "\n",
    "    for epoch in range(1,n_epochs+1):\n",
    "        loss=trian_epoch(train_dataloader,encoder,decoder,encoder_optimizer,decoder_optimizer,criterion)\n",
    "        log_loss_total+=loss\n",
    "        plot_loss_total+=loss\n",
    "        if epoch%log_epoch==0:\n",
    "            log_loss_avg=log_loss_total/log_epoch\n",
    "            log_loss_total=0\n",
    "            print(f'{timeSine(start,epoch/n_epochs)} | current epoch({epoch} {epoch/n_epochs*100}%) | loss avg:{log_loss_avg}')\n",
    "        if epoch % plot_epoch==0:\n",
    "            plot_loss_avg=plot_loss_total/plot_epoch\n",
    "            plot_losses.append(plot_loss_avg)\n",
    "            plot_loss_total=0\n",
    "    showPlot(plot_losses)\n",
    "\n"
   ]
  },
  {
   "cell_type": "code",
   "execution_count": 25,
   "metadata": {},
   "outputs": [],
   "source": [
    "def evaluate(encoder,decoder,sentence,input_lang:Lang,output_lang:Lang):\n",
    "    with torch.no_grad():\n",
    "        input_tensor=tensorfromSentence(input_lang,sentence)\n",
    "        encoder_outputs,encoder_hidden=encoder(input_tensor)\n",
    "        decoder_outputs,_,attentions=decoder(encoder_outputs,encoder_hidden)\n",
    "        _,topi=decoder_outputs.topk(1)\n",
    "        decoder_ids=topi.squeeze()\n",
    "        decoded_word=[]\n",
    "        for idx in decoder_ids:\n",
    "            if idx.item()==EOS_token:\n",
    "                decoded_word.append('<EOS>')\n",
    "                break\n",
    "            decoded_word.append(output_lang.index2word[idx.item()])\n",
    "        return decoded_word,attentions"
   ]
  },
  {
   "cell_type": "code",
   "execution_count": 26,
   "metadata": {},
   "outputs": [
    {
     "data": {
      "text/plain": [
       "['we are spending the night at my uncle s house', '我们在我的叔叔家过夜']"
      ]
     },
     "execution_count": 26,
     "metadata": {},
     "output_type": "execute_result"
    }
   ],
   "source": [
    "random.choice(pairs)"
   ]
  },
  {
   "cell_type": "code",
   "execution_count": 27,
   "metadata": {},
   "outputs": [],
   "source": [
    "def evaluateRandomly(encoder,decoder,n=5):\n",
    "    for i in range(n):\n",
    "        pair=random.choice(pairs)\n",
    "        print(f\"English is :{pair[0]}\")\n",
    "        print(f\"中文：{pair[1]}\")\n",
    "        output_words=evaluate(encoder,decoder,pair[0],input_lang,output_lang)\n",
    "        output_sentence=' '.join(output_words)\n",
    "        print(f\"translation predict is {output_sentence}\")"
   ]
  },
  {
   "cell_type": "code",
   "execution_count": 28,
   "metadata": {},
   "outputs": [
    {
     "name": "stdout",
     "output_type": "stream",
     "text": [
      "Duration 14.441871404647827 ,216.6280710697174 time left | | current epoch(5 6.25%) | loss avg:2.1191986839536208\n",
      "Duration 28.171440601348877 ,197.20008420944214 time left | | current epoch(10 12.5%) | loss avg:1.4581324631059673\n",
      "Duration 41.95329689979553 ,181.79761989911398 time left | | current epoch(15 18.75%) | loss avg:1.0785861885043935\n",
      "Duration 55.83620524406433 ,167.508615732193 time left | | current epoch(20 25.0%) | loss avg:0.7808718246473394\n",
      "Duration 69.56828427314758 ,153.0502254009247 time left | | current epoch(25 31.25%) | loss avg:0.5591616444184746\n",
      "Duration 81.99952363967896 ,136.66587273279825 time left | | current epoch(30 37.5%) | loss avg:0.4016169271838497\n",
      "Duration 96.06320834159851 ,123.50983929634094 time left | | current epoch(35 43.75%) | loss avg:0.28879803121089936\n",
      "Duration 109.90704798698425 ,109.90704798698425 time left | | current epoch(40 50.0%) | loss avg:0.20656939111125303\n",
      "Duration 123.97131633758545 ,96.42213492923312 time left | | current epoch(45 56.25%) | loss avg:0.1459330501270966\n",
      "Duration 137.42487287521362 ,82.45492372512817 time left | | current epoch(50 62.5%) | loss avg:0.10446275013013624\n",
      "Duration 150.93345880508423 ,68.60611763867465 time left | | current epoch(55 68.75%) | loss avg:0.07552126678572575\n",
      "Duration 164.5311679840088 ,54.84372266133627 time left | | current epoch(60 75.0%) | loss avg:0.057641757804323256\n",
      "Duration 178.66964054107666 ,41.23145550947922 time left | | current epoch(65 81.25%) | loss avg:0.04498072714138199\n",
      "Duration 191.88337230682373 ,27.41191032954626 time left | | current epoch(70 87.5%) | loss avg:0.03703152080866652\n",
      "Duration 204.59377098083496 ,13.639584732055653 time left | | current epoch(75 93.75%) | loss avg:0.0312142000572992\n",
      "Duration 217.84432244300842 ,0.0 time left | | current epoch(80 100.0%) | loss avg:0.028024364380874262\n"
     ]
    }
   ],
   "source": [
    "hidden_size=128\n",
    "batch_size=32\n",
    "encoder=EncoderRNN(input_lang.n_words,hidden_size).to(device)\n",
    "# decoder=DecoderRNN(hidden_size,output_lang.n_words).to(device)\n",
    "decoder=AttentionDecoderRNN(hidden_size,output_lang.n_words).to(device)\n",
    "train(train_dataloader,encoder,decoder,80,log_epoch=5,plot_epoch=5)\n"
   ]
  },
  {
   "cell_type": "code",
   "execution_count": 46,
   "metadata": {},
   "outputs": [
    {
     "name": "stdout",
     "output_type": "stream",
     "text": [
      "English is :he is always complaining\n",
      "中文：他總是在抱怨\n",
      "translation predict is 他 被 指控 犯有 好 幾起 侵犯   总是 在 调情 说 <EOS>\n",
      "English is :he is the person whom i saw yesterday\n",
      "中文：他就是我昨天看到的那個人\n",
      "translation predict is 他 就是 我 昨天 看到 的 那個 人 <EOS>\n",
      "English is :he is bound to succeed\n",
      "中文：他一定会成功\n",
      "translation predict is 他 沒 有 他 弟弟 聰明 <EOS>\n",
      "English is :i am good friends with bill\n",
      "中文：我和比爾是好朋友\n",
      "translation predict is 我 和 比爾是 好 朋友 之一 <EOS>\n",
      "English is :we are english\n",
      "中文：我們是英國人\n",
      "translation predict is 我们 那时   我 不是 就是 是 朋友 <EOS>\n"
     ]
    }
   ],
   "source": [
    "encoder.eval()\n",
    "decoder.eval()\n",
    "\n",
    "evaluateRandomly(encoder,decoder)"
   ]
  },
  {
   "cell_type": "code",
   "execution_count": 39,
   "metadata": {},
   "outputs": [
    {
     "name": "stdout",
     "output_type": "stream",
     "text": [
      "English is :i am eating a watermelon\n",
      "中文：我在吃一個西瓜\n",
      "translation predict is 我 在 吃 一個 西瓜 <EOS>\n",
      "English is :they are going forwards and i am always going backwards\n",
      "中文：他们往前走而我一直都在往后退\n",
      "translation predict is 他们 往前走 而 我 一直 都 在 往 后退 <EOS>\n",
      "English is :you are too sensitive to criticism\n",
      "中文：你對批評太敏感了\n",
      "translation predict is 你 對 批評 太 敏感 了 <EOS>\n",
      "English is :she is busy right now and she can t speak with you\n",
      "中文：她現在很忙 不能和你談話\n",
      "translation predict is 她現 在 很 忙   不能 和 你 談話 <EOS>\n",
      "English is :i am a member of the tennis club\n",
      "中文：我是网球俱乐部的会员\n",
      "translation predict is 我 是 网球 俱乐部 的 会员 <EOS>\n"
     ]
    }
   ],
   "source": [
    "encoder.eval()\n",
    "decoder.eval()\n",
    "\n",
    "evaluateRandomly(encoder,decoder)"
   ]
  },
  {
   "cell_type": "code",
   "execution_count": 34,
   "metadata": {},
   "outputs": [
    {
     "name": "stdout",
     "output_type": "stream",
     "text": [
      "English is :he is apt to forget\n",
      "中文：他很善忘\n",
      "translation predict is 他 很 善忘 <EOS>\n",
      "English is :i am studying computer science\n",
      "中文：我在学习计算机科学\n",
      "translation predict is 我 确信 不好 <EOS>\n",
      "English is :i am happy\n",
      "中文：我很高兴\n",
      "translation predict is 我 很 高兴 想 相处 問題 問題 果實 学 句子 不好 高兴 <EOS>\n",
      "English is :i am tired of homework\n",
      "中文：我厭倦了功課\n",
      "translation predict is 我 的 回家 作業 了 了 会 离开 <EOS>\n",
      "English is :we are to meet him at seven this evening\n",
      "中文：我們今天晚上七點跟他見面\n",
      "translation predict is 我們 今天 晚上 七點 跟 他 見面 做 另 一个 决定 买 哪个 <EOS>\n"
     ]
    }
   ],
   "source": [
    "encoder.eval()\n",
    "decoder.eval()\n",
    "\n",
    "evaluateRandomly(encoder,decoder)"
   ]
  },
  {
   "cell_type": "code",
   "execution_count": 31,
   "metadata": {},
   "outputs": [],
   "source": [
    "def showattention(input_sentence, output_words, attentions):\n",
    "    # plt.legend(prop=chinese_font)\n",
    "    plt.rcParams['font.sans-serif']='SimHei'\n",
    "    fig = plt.figure()\n",
    "    ax = fig.add_subplot(111)\n",
    "    cax = ax.matshow(attentions.cpu().numpy(), cmap='bone')  #通过attentions矩阵获得值\n",
    "    fig.colorbar(cax)  #设置颜色条\n",
    "    ax.set_xticklabels([''] + input_sentence.split(' ') + ['<EOS>'],\n",
    "                       rotation=90)\n",
    "    # print(output_words)\n",
    "    ax.set_yticklabels([''] + output_words)\n",
    "    ax.xaxis.set_major_locator(ticker.MultipleLocator(1))\n",
    "    ax.yaxis.set_major_locator(ticker.MultipleLocator(1))\n",
    "    plt.savefig(\n",
    "        '/home/adminroot/code/pc/study_vlog/deeplearning/torch_tutorial/tanslation_with_tf/atten.png'\n",
    "    )\n",
    "    plt.close()\n",
    "    # plt.show()\n",
    "\n",
    "\n",
    "def evaluateandshowattention(input_sentence):\n",
    "    output_words, attentions = evaluate(encoder, decoder, input_sentence,\n",
    "                                        input_lang, output_lang)\n",
    "    print(f'input : {input_sentence}')\n",
    "    print('output :',''.join(output_words))\n",
    "    showattention(input_sentence,output_words,attentions[0,0:len(output_words),:])"
   ]
  },
  {
   "cell_type": "code",
   "execution_count": 37,
   "metadata": {},
   "outputs": [
    {
     "name": "stdout",
     "output_type": "stream",
     "text": [
      "input : i am studying computer science\n",
      "output : 我在学习计算机科学<EOS>\n"
     ]
    },
    {
     "name": "stderr",
     "output_type": "stream",
     "text": [
      "/tmp/ipykernel_2013758/237762821.py:8: UserWarning: set_ticklabels() should only be used with a fixed number of ticks, i.e. after set_ticks() or using a FixedLocator.\n",
      "  ax.set_xticklabels([''] + input_sentence.split(' ') + ['<EOS>'],\n",
      "/tmp/ipykernel_2013758/237762821.py:11: UserWarning: set_ticklabels() should only be used with a fixed number of ticks, i.e. after set_ticks() or using a FixedLocator.\n",
      "  ax.set_yticklabels([''] + output_words)\n"
     ]
    }
   ],
   "source": [
    "# from matplotlib.backends.backend_pdf import PdfPages\n",
    "\n",
    "evaluateandshowattention('i am studying computer science')\n",
    "# evaluateandshowattention('she is busy right now and she can t speak with you')\n",
    "\n",
    "# pdf = PdfPages(\n",
    "#     '/home/adminroot/code/pc/study_vlog/deeplearning/torch_tutorial/tanslation_with_tf/atten.pdf'\n",
    "# )\n",
    "# pdf.savefig()\n",
    "# plt.close()\n",
    "# pdf.close()"
   ]
  },
  {
   "cell_type": "code",
   "execution_count": null,
   "metadata": {},
   "outputs": [],
   "source": []
  }
 ],
 "metadata": {
  "kernelspec": {
   "display_name": "distill_data",
   "language": "python",
   "name": "python3"
  },
  "language_info": {
   "codemirror_mode": {
    "name": "ipython",
    "version": 3
   },
   "file_extension": ".py",
   "mimetype": "text/x-python",
   "name": "python",
   "nbconvert_exporter": "python",
   "pygments_lexer": "ipython3",
   "version": "3.11.6"
  }
 },
 "nbformat": 4,
 "nbformat_minor": 2
}
